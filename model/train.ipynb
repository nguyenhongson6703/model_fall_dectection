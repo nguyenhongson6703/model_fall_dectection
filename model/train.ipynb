{
 "cells": [
  {
   "cell_type": "code",
   "execution_count": 37,
   "id": "98b6826a-4a9e-447e-af0e-fb4ae189221a",
   "metadata": {
    "execution": {
     "iopub.execute_input": "2024-04-11T17:01:24.445472Z",
     "iopub.status.busy": "2024-04-11T17:01:24.445472Z",
     "iopub.status.idle": "2024-04-11T17:01:24.448434Z",
     "shell.execute_reply": "2024-04-11T17:01:24.448434Z",
     "shell.execute_reply.started": "2024-04-11T17:01:24.445472Z"
    }
   },
   "outputs": [],
   "source": [
    "# tai lieu tham khao\n",
    "# 1. NCKH - K20\n",
    "# 2. Fall Detection with Attention mechanisms\n",
    "# 3. project1.pdf (bao cao kieu nhu pbl cua sinh vien truong UK)\n",
    "# 4. https://phamdinhkhanh.github.io/2019/12/02/DeepLearningLayer.html\n",
    "# 5. https://phamdinhkhanh.github.io/2020/02/17/ImbalancedData.html\n",
    "# 6. Data Science from Scratch - First Principles with Python (2015) (tks nkd)\n"
   ]
  },
  {
   "cell_type": "code",
   "execution_count": 1,
   "id": "b2c5709d-b0a3-427f-ac42-e9c5d49051c5",
   "metadata": {
    "execution": {
     "iopub.execute_input": "2024-06-10T16:17:10.653947Z",
     "iopub.status.busy": "2024-06-10T16:17:10.653947Z",
     "iopub.status.idle": "2024-06-10T16:17:18.979040Z",
     "shell.execute_reply": "2024-06-10T16:17:18.979040Z",
     "shell.execute_reply.started": "2024-06-10T16:17:10.653947Z"
    }
   },
   "outputs": [],
   "source": [
    "import numpy as np\n",
    "import pandas as pd\n",
    "import keras\n",
    "import tensorflow as tf\n",
    "\n",
    "from tensorflow.keras.layers import LSTM, Dense, Dropout, Activation, TimeDistributed, Flatten, Attention, Bidirectional, GlobalAvgPool1D\n",
    "from tensorflow.keras.models import Sequential\n",
    "from tensorflow.keras.callbacks import EarlyStopping\n",
    "from keras.utils.vis_utils import plot_model\n",
    "from tensorflow.keras.initializers import glorot_uniform\n",
    "from keras_self_attention import SeqSelfAttention\n",
    "from sklearn.model_selection import train_test_split\n",
    "from sklearn.utils.class_weight import compute_class_weight\n",
    "from sklearn.model_selection import KFold\n",
    "from sklearn.metrics import confusion_matrix, roc_curve, auc, precision_recall_curve, f1_score\n",
    "import seaborn as sns\n",
    "\n",
    "import matplotlib.pyplot as plt\n",
    "from sklearn.utils import resample\n",
    "\n",
    "gpus = tf.config.experimental.list_physical_devices('GPU')\n",
    "for gpu in gpus:\n",
    "  tf.config.experimental.set_memory_growth(gpu, True)"
   ]
  },
  {
   "cell_type": "code",
   "execution_count": 2,
   "id": "52ed0c51-5d1f-4801-9c03-a17d96c66302",
   "metadata": {
    "execution": {
     "iopub.execute_input": "2024-06-10T16:17:18.980997Z",
     "iopub.status.busy": "2024-06-10T16:17:18.980022Z",
     "iopub.status.idle": "2024-06-10T16:17:18.983928Z",
     "shell.execute_reply": "2024-06-10T16:17:18.983928Z",
     "shell.execute_reply.started": "2024-06-10T16:17:18.980997Z"
    }
   },
   "outputs": [],
   "source": [
    "X = []\n",
    "Y = []\n",
    "no_of_timesteps = 20"
   ]
  },
  {
   "cell_type": "code",
   "execution_count": 3,
   "id": "d45fae41-6ab5-4a32-92d0-7a745fa2e764",
   "metadata": {
    "execution": {
     "iopub.execute_input": "2024-06-10T16:17:18.984904Z",
     "iopub.status.busy": "2024-06-10T16:17:18.984904Z",
     "iopub.status.idle": "2024-06-10T16:17:18.989819Z",
     "shell.execute_reply": "2024-06-10T16:17:18.989819Z",
     "shell.execute_reply.started": "2024-06-10T16:17:18.984904Z"
    }
   },
   "outputs": [],
   "source": [
    "def generate_sequences(dataset, no_of_timesteps, original_fps=30, target_fps=15):\n",
    "    sequences = []\n",
    "    skip_steps = original_fps // target_fps\n",
    "    \n",
    "    max_start_index = len(dataset) - skip_steps * no_of_timesteps\n",
    "    \n",
    "    for start in range(0, len(dataset)):\n",
    "        sequence = []\n",
    "        for i in range(no_of_timesteps):\n",
    "            idx = start + skip_steps * i\n",
    "            if idx >= len(dataset):\n",
    "                break\n",
    "            sequence.append(dataset[idx])\n",
    "        if len(sequence) == no_of_timesteps:\n",
    "            sequences.append(np.array(sequence))\n",
    "    \n",
    "    return sequences"
   ]
  },
  {
   "cell_type": "code",
   "execution_count": 4,
   "id": "daa52105-3e5f-410e-8330-57df6adfd5e2",
   "metadata": {
    "execution": {
     "iopub.execute_input": "2024-06-10T16:17:18.990796Z",
     "iopub.status.busy": "2024-06-10T16:17:18.990796Z",
     "iopub.status.idle": "2024-06-10T16:17:18.995678Z",
     "shell.execute_reply": "2024-06-10T16:17:18.995678Z",
     "shell.execute_reply.started": "2024-06-10T16:17:18.990796Z"
    }
   },
   "outputs": [],
   "source": [
    "extracted_features_path = 'extracted_features/may/2_1/'"
   ]
  },
  {
   "cell_type": "code",
   "execution_count": 5,
   "id": "3a1bf7b6-c714-449b-af6f-62a9151d8b3d",
   "metadata": {
    "execution": {
     "iopub.execute_input": "2024-06-10T16:17:18.996679Z",
     "iopub.status.busy": "2024-06-10T16:17:18.996679Z",
     "iopub.status.idle": "2024-06-10T16:17:30.153220Z",
     "shell.execute_reply": "2024-06-10T16:17:30.153220Z",
     "shell.execute_reply.started": "2024-06-10T16:17:18.996679Z"
    }
   },
   "outputs": [],
   "source": [
    "fall_df = pd.read_csv(extracted_features_path + \"train/FALL.csv\")\n",
    "not_fall_df = pd.read_csv(extracted_features_path + \"train/NOT_FALL.csv\")\n",
    "\n",
    "grouped = fall_df.groupby('videoid') \n",
    "\n",
    "for video_id, group in grouped:\n",
    "    dataset = group.iloc[:, 2:].values \n",
    "    sequences = generate_sequences(dataset, no_of_timesteps)\n",
    "    \n",
    "    for sequence in sequences:\n",
    "        X.append(sequence)\n",
    "        Y.append(1) \n",
    "\n",
    "grouped = not_fall_df.groupby('videoid')\n",
    "\n",
    "for video_id, group in grouped:\n",
    "    dataset = group.iloc[:, 2:].values \n",
    "    \n",
    "    sequences = generate_sequences(dataset, no_of_timesteps)\n",
    "    for sequence in sequences:\n",
    "        X.append(sequence)\n",
    "        Y.append(0) "
   ]
  },
  {
   "cell_type": "code",
   "execution_count": 6,
   "id": "4212097e-cc08-419f-86b0-cde661d211a1",
   "metadata": {
    "execution": {
     "iopub.execute_input": "2024-06-10T16:17:30.154187Z",
     "iopub.status.busy": "2024-06-10T16:17:30.154187Z",
     "iopub.status.idle": "2024-06-10T16:17:30.758177Z",
     "shell.execute_reply": "2024-06-10T16:17:30.758177Z",
     "shell.execute_reply.started": "2024-06-10T16:17:30.154187Z"
    }
   },
   "outputs": [],
   "source": [
    "fall_df_test = pd.read_csv(extracted_features_path + \"test2/FALL.csv\")\n",
    "not_fall_df_test = pd.read_csv(extracted_features_path + \"test2/NOT_FALL.csv\")\n",
    "\n",
    "X_test = []\n",
    "Y_test = []\n",
    "Video_IDs_test = [] \n",
    "\n",
    "grouped = fall_df_test.groupby('videoid') \n",
    "\n",
    "for video_id, group in grouped:\n",
    "    dataset = group.iloc[:, 2:].values \n",
    "    #dataset = resample(dataset, replace=True, n_samples=dataset.shape[0]*4)\n",
    "    sequences = generate_sequences(dataset, no_of_timesteps)\n",
    "    \n",
    "    for sequence in sequences:\n",
    "        X_test.append(sequence)\n",
    "        Y_test.append(1) \n",
    "        Video_IDs_test.append(video_id)\n",
    "      \n",
    "grouped = not_fall_df_test.groupby('videoid')\n",
    "\n",
    "for video_id, group in grouped:\n",
    "    dataset = group.iloc[:, 2:].values \n",
    "    \n",
    "    sequences = generate_sequences(dataset, no_of_timesteps)\n",
    "    for sequence in sequences:\n",
    "        X_test.append(sequence)\n",
    "        Y_test.append(0) \n",
    "        Video_IDs_test.append(video_id)"
   ]
  },
  {
   "cell_type": "code",
   "execution_count": 7,
   "id": "df5b9c16-1c7a-4af5-b95c-12298e18e4e8",
   "metadata": {
    "execution": {
     "iopub.execute_input": "2024-06-10T16:17:30.759161Z",
     "iopub.status.busy": "2024-06-10T16:17:30.759161Z",
     "iopub.status.idle": "2024-06-10T16:17:31.817156Z",
     "shell.execute_reply": "2024-06-10T16:17:31.817156Z",
     "shell.execute_reply.started": "2024-06-10T16:17:30.759161Z"
    }
   },
   "outputs": [],
   "source": [
    "fall_df_val = pd.read_csv(extracted_features_path + \"val/FALL.csv\")\n",
    "not_fall_df_val = pd.read_csv(extracted_features_path + \"val/NOT_FALL.csv\")\n",
    "\n",
    "X_val = []\n",
    "Y_val = []\n",
    "\n",
    "grouped = fall_df_val.groupby('videoid') \n",
    "\n",
    "for video_id, group in grouped:\n",
    "    dataset = group.iloc[:, 2:].values \n",
    "    sequences = generate_sequences(dataset, no_of_timesteps)\n",
    "    \n",
    "    for sequence in sequences:\n",
    "        X_val.append(sequence)\n",
    "        Y_val.append(1) \n",
    "      \n",
    "grouped = not_fall_df_val.groupby('videoid')\n",
    "\n",
    "for video_id, group in grouped:\n",
    "    dataset = group.iloc[:, 2:].values \n",
    "    \n",
    "    sequences = generate_sequences(dataset, no_of_timesteps)\n",
    "    for sequence in sequences:\n",
    "        X_val.append(sequence)\n",
    "        Y_val.append(0) "
   ]
  },
  {
   "cell_type": "code",
   "execution_count": 8,
   "id": "377347f9-2ba5-4cce-9aef-b0088fb72478",
   "metadata": {
    "execution": {
     "iopub.execute_input": "2024-06-10T16:17:31.818161Z",
     "iopub.status.busy": "2024-06-10T16:17:31.818161Z",
     "iopub.status.idle": "2024-06-10T16:17:32.954491Z",
     "shell.execute_reply": "2024-06-10T16:17:32.954491Z",
     "shell.execute_reply.started": "2024-06-10T16:17:31.818161Z"
    }
   },
   "outputs": [
    {
     "name": "stdout",
     "output_type": "stream",
     "text": [
      "(81445, 20, 132)\n",
      "(8427, 20, 132)\n",
      "(4599, 20, 132)\n"
     ]
    }
   ],
   "source": [
    "\n",
    "\n",
    "X_train, Y_train = np.array(X), np.array(Y)\n",
    "X_val, Y_val = np.array(X_val), np.array(Y_val)\n",
    "X_test, Y_test = np.array(X_test), np.array(Y_test)\n",
    "#X_val = X_test\n",
    "#Y_val = Y_test\n",
    "#X_val = np.concatenate((X_val, X_test))\n",
    "#Y_val = np.concatenate((Y_val, Y_test))\n",
    "\n",
    "'''\n",
    "X_full = np.concatenate((X_train, X_val, X_test))\n",
    "Y_full = np.concatenate((Y_train, Y_val, Y_test))\n",
    "\n",
    "print(X_full.shape)\n",
    "\n",
    "X_train, X_val, Y_train, Y_val = train_test_split(X_full, Y_full, test_size=0.3, shuffle=True)\n",
    "X_test, X_val, Y_test, Y_val = train_test_split(X_val, Y_val, test_size=0.5, shuffle=True)\n",
    "'''\n",
    "print(X_train.shape)\n",
    "print(X_val.shape)\n",
    "print(X_test.shape)"
   ]
  },
  {
   "cell_type": "code",
   "execution_count": 9,
   "id": "a2d2fb72-1a18-490f-82ba-4199fb6dc3b7",
   "metadata": {
    "execution": {
     "iopub.execute_input": "2024-06-10T16:17:32.955614Z",
     "iopub.status.busy": "2024-06-10T16:17:32.955614Z",
     "iopub.status.idle": "2024-06-10T16:17:33.137039Z",
     "shell.execute_reply": "2024-06-10T16:17:33.137039Z",
     "shell.execute_reply.started": "2024-06-10T16:17:32.955614Z"
    }
   },
   "outputs": [
    {
     "name": "stdout",
     "output_type": "stream",
     "text": [
      "[51570 29875]\n",
      "[6329 2098]\n",
      "[3318 1281]\n"
     ]
    },
    {
     "data": {
      "image/png": "[encoded data removed]",
      "text/plain": [
       "<Figure size 800x500 with 1 Axes>"
      ]
     },
     "metadata": {},
     "output_type": "display_data"
    }
   ],
   "source": [
    "# Counting the occurrences of each value\n",
    "values, counts = np.unique(Y_train, return_counts=True)\n",
    "print(counts)\n",
    "\n",
    "values_val, counts_val = np.unique(Y_val, return_counts=True)\n",
    "print(counts_val)\n",
    "\n",
    "values_test, counts_test = np.unique(Y_test, return_counts=True)\n",
    "print(counts_test)\n",
    "\n",
    "# Plotting\n",
    "plt.figure(figsize=(8, 5))\n",
    "plt.bar(values, counts, tick_label=['NOT_FALL', 'FALL'], color=['skyblue', 'lightgreen'])\n",
    "plt.title('Distribution of NOT_FALL and FALL')\n",
    "plt.xlabel('Class Labels')\n",
    "plt.ylabel('Count')\n",
    "plt.show()"
   ]
  },
  {
   "cell_type": "code",
   "execution_count": 10,
   "id": "cf915e9c-f985-45db-b6f1-d9ab821e6c17",
   "metadata": {
    "execution": {
     "iopub.execute_input": "2024-06-10T16:17:33.139045Z",
     "iopub.status.busy": "2024-06-10T16:17:33.138051Z",
     "iopub.status.idle": "2024-06-10T16:17:35.064951Z",
     "shell.execute_reply": "2024-06-10T16:17:35.064951Z",
     "shell.execute_reply.started": "2024-06-10T16:17:33.139045Z"
    }
   },
   "outputs": [
    {
     "name": "stdout",
     "output_type": "stream",
     "text": [
      "Model: \"sequential\"\n",
      "_________________________________________________________________\n",
      " Layer (type)                Output Shape              Param #   \n",
      "=================================================================\n",
      " lstm (LSTM)                 (None, 20, 64)            50432     \n",
      "                                                                 \n",
      " dropout (Dropout)           (None, 20, 64)            0         \n",
      "                                                                 \n",
      " seq_self_attention (SeqSelf  (None, 20, 64)           16641     \n",
      " Attention)                                                      \n",
      "                                                                 \n",
      " global_average_pooling1d (G  (None, 64)               0         \n",
      " lobalAveragePooling1D)                                          \n",
      "                                                                 \n",
      " dense (Dense)               (None, 64)                4160      \n",
      "                                                                 \n",
      " dense_1 (Dense)             (None, 1)                 65        \n",
      "                                                                 \n",
      "=================================================================\n",
      "Total params: 71,298\n",
      "Trainable params: 71,298\n",
      "Non-trainable params: 0\n",
      "_________________________________________________________________\n"
     ]
    }
   ],
   "source": [
    "np.random.seed(16)\n",
    "tf.random.set_seed(16)\n",
    "\n",
    "model = Sequential()\n",
    "\n",
    "model.add(LSTM(units = 64, return_sequences=True, input_shape = (X_train.shape[1], X_train.shape[2])))\n",
    "model.add(Dropout(0.2))\n",
    "model.add(SeqSelfAttention(units=128, attention_activation='sigmoid', kernel_initializer=glorot_uniform(seed=0))) \n",
    "model.add(GlobalAvgPool1D())\n",
    "model.add(Dense(64))\n",
    "model.add(Dense(1, activation='sigmoid'))\n",
    "\n",
    "epochs = 25\n",
    "\n",
    "model.compile(\n",
    "    optimizer=keras.optimizers.Adam(learning_rate=0.000001), #0.000005\n",
    "    loss=keras.losses.BinaryCrossentropy(),\n",
    "    metrics=[\n",
    "        'accuracy',\n",
    "        keras.metrics.Precision(name='precision'),\n",
    "        keras.metrics.Recall(name='recall')\n",
    "    ],\n",
    ")\n",
    "model.summary()"
   ]
  },
  {
   "cell_type": "code",
   "execution_count": 11,
   "id": "07280794-ddc3-4430-828a-cb3c41b65c77",
   "metadata": {
    "execution": {
     "iopub.execute_input": "2024-06-10T16:17:35.936126Z",
     "iopub.status.busy": "2024-06-10T16:17:35.935150Z",
     "iopub.status.idle": "2024-06-10T16:17:37.803775Z",
     "shell.execute_reply": "2024-06-10T16:17:37.803775Z",
     "shell.execute_reply.started": "2024-06-10T16:17:35.936126Z"
    }
   },
   "outputs": [
    {
     "data": {
      "image/png": "[encoded data removed]",
      "text/plain": [
       "<IPython.core.display.Image object>"
      ]
     },
     "execution_count": 11,
     "metadata": {},
     "output_type": "execute_result"
    }
   ],
   "source": [
    "from keras.models import Sequential\n",
    "from keras.layers import Dense\n",
    "from keras.utils.vis_utils import plot_model\n",
    "plot_model(model, to_file='model_plot.png', show_shapes=True, show_layer_names=True)"
   ]
  },
  {
   "cell_type": "code",
   "execution_count": 15,
   "id": "9ada58a1-09f6-42df-992b-c6c6320f6e42",
   "metadata": {
    "execution": {
     "iopub.execute_input": "2024-05-10T02:31:47.611168Z",
     "iopub.status.busy": "2024-05-10T02:31:47.610404Z",
     "iopub.status.idle": "2024-05-10T02:36:50.010626Z",
     "shell.execute_reply": "2024-05-10T02:36:50.010567Z",
     "shell.execute_reply.started": "2024-05-10T02:31:47.611168Z"
    }
   },
   "outputs": [
    {
     "name": "stdout",
     "output_type": "stream",
     "text": [
      "Epoch 1/25\n",
      "2546/2546 [==============================] - 13s 5ms/step - loss: 0.6250 - accuracy: 0.6317 - precision: 0.1728 - recall: 0.0011 - val_loss: 0.5493 - val_accuracy: 0.7489 - val_precision: 0.2500 - val_recall: 0.0043\n",
      "Epoch 2/25\n",
      "2546/2546 [==============================] - 12s 5ms/step - loss: 0.5883 - accuracy: 0.6390 - precision: 0.5604 - recall: 0.0741 - val_loss: 0.5171 - val_accuracy: 0.7274 - val_precision: 0.3969 - val_recall: 0.1826\n",
      "Epoch 3/25\n",
      "2546/2546 [==============================] - 12s 5ms/step - loss: 0.5536 - accuracy: 0.6935 - precision: 0.6757 - recall: 0.3165 - val_loss: 0.4873 - val_accuracy: 0.7591 - val_precision: 0.5223 - val_recall: 0.3804\n",
      "Epoch 4/25\n",
      "2546/2546 [==============================] - 12s 5ms/step - loss: 0.5242 - accuracy: 0.7305 - precision: 0.6882 - recall: 0.4850 - val_loss: 0.4696 - val_accuracy: 0.7598 - val_precision: 0.5171 - val_recall: 0.5348\n",
      "Epoch 5/25\n",
      "2546/2546 [==============================] - 11s 5ms/step - loss: 0.5010 - accuracy: 0.7550 - precision: 0.6970 - recall: 0.5873 - val_loss: 0.4561 - val_accuracy: 0.7728 - val_precision: 0.5385 - val_recall: 0.6101\n",
      "Epoch 6/25\n",
      "2546/2546 [==============================] - 12s 5ms/step - loss: 0.4823 - accuracy: 0.7700 - precision: 0.7025 - recall: 0.6469 - val_loss: 0.4446 - val_accuracy: 0.7824 - val_precision: 0.5539 - val_recall: 0.6463\n",
      "Epoch 7/25\n",
      "2546/2546 [==============================] - 13s 5ms/step - loss: 0.4660 - accuracy: 0.7782 - precision: 0.7053 - recall: 0.6790 - val_loss: 0.4321 - val_accuracy: 0.7863 - val_precision: 0.5605 - val_recall: 0.6559\n",
      "Epoch 8/25\n",
      "2546/2546 [==============================] - 12s 5ms/step - loss: 0.4503 - accuracy: 0.7859 - precision: 0.7119 - recall: 0.6994 - val_loss: 0.4235 - val_accuracy: 0.7942 - val_precision: 0.5723 - val_recall: 0.6864\n",
      "Epoch 9/25\n",
      "2546/2546 [==============================] - 12s 5ms/step - loss: 0.4351 - accuracy: 0.7941 - precision: 0.7191 - recall: 0.7198 - val_loss: 0.4123 - val_accuracy: 0.8030 - val_precision: 0.5888 - val_recall: 0.6921\n",
      "Epoch 10/25\n",
      "2546/2546 [==============================] - 12s 5ms/step - loss: 0.4199 - accuracy: 0.8041 - precision: 0.7307 - recall: 0.7379 - val_loss: 0.4048 - val_accuracy: 0.8298 - val_precision: 0.6398 - val_recall: 0.7240\n",
      "Epoch 11/25\n",
      "2546/2546 [==============================] - 12s 5ms/step - loss: 0.4038 - accuracy: 0.8152 - precision: 0.7428 - recall: 0.7588 - val_loss: 0.3938 - val_accuracy: 0.8378 - val_precision: 0.6569 - val_recall: 0.7293\n",
      "Epoch 12/25\n",
      "2546/2546 [==============================] - 12s 5ms/step - loss: 0.3872 - accuracy: 0.8261 - precision: 0.7559 - recall: 0.7768 - val_loss: 0.3843 - val_accuracy: 0.8412 - val_precision: 0.6614 - val_recall: 0.7421\n",
      "Epoch 13/25\n",
      "2546/2546 [==============================] - 12s 5ms/step - loss: 0.3699 - accuracy: 0.8377 - precision: 0.7686 - recall: 0.7977 - val_loss: 0.3720 - val_accuracy: 0.8451 - val_precision: 0.6675 - val_recall: 0.7531\n",
      "Epoch 14/25\n",
      "2546/2546 [==============================] - 12s 5ms/step - loss: 0.3512 - accuracy: 0.8509 - precision: 0.7844 - recall: 0.8184 - val_loss: 0.3605 - val_accuracy: 0.8494 - val_precision: 0.6735 - val_recall: 0.7669\n",
      "Epoch 15/25\n",
      "2546/2546 [==============================] - 12s 5ms/step - loss: 0.3321 - accuracy: 0.8622 - precision: 0.7996 - recall: 0.8331 - val_loss: 0.3481 - val_accuracy: 0.8565 - val_precision: 0.6839 - val_recall: 0.7879\n",
      "Epoch 16/25\n",
      "2546/2546 [==============================] - 12s 5ms/step - loss: 0.3118 - accuracy: 0.8763 - precision: 0.8191 - recall: 0.8506 - val_loss: 0.3319 - val_accuracy: 0.8650 - val_precision: 0.7000 - val_recall: 0.8008\n",
      "Epoch 17/25\n",
      "2546/2546 [==============================] - 12s 5ms/step - loss: 0.2907 - accuracy: 0.8882 - precision: 0.8364 - recall: 0.8642 - val_loss: 0.3153 - val_accuracy: 0.8815 - val_precision: 0.7384 - val_recall: 0.8112\n",
      "Epoch 18/25\n",
      "2546/2546 [==============================] - 12s 5ms/step - loss: 0.2684 - accuracy: 0.8986 - precision: 0.8519 - recall: 0.8758 - val_loss: 0.2960 - val_accuracy: 0.8881 - val_precision: 0.7501 - val_recall: 0.8255\n",
      "Epoch 19/25\n",
      "2546/2546 [==============================] - 12s 5ms/step - loss: 0.2456 - accuracy: 0.9080 - precision: 0.8655 - recall: 0.8872 - val_loss: 0.2738 - val_accuracy: 0.8919 - val_precision: 0.7577 - val_recall: 0.8317\n",
      "Epoch 20/25\n",
      "2546/2546 [==============================] - 12s 5ms/step - loss: 0.2226 - accuracy: 0.9172 - precision: 0.8805 - recall: 0.8959 - val_loss: 0.2516 - val_accuracy: 0.8969 - val_precision: 0.7623 - val_recall: 0.8513\n",
      "Epoch 21/25\n",
      "2546/2546 [==============================] - 12s 5ms/step - loss: 0.2005 - accuracy: 0.9272 - precision: 0.8969 - recall: 0.9055 - val_loss: 0.2282 - val_accuracy: 0.9023 - val_precision: 0.7691 - val_recall: 0.8684\n",
      "Epoch 22/25\n",
      "2546/2546 [==============================] - 12s 5ms/step - loss: 0.1792 - accuracy: 0.9375 - precision: 0.9123 - recall: 0.9179 - val_loss: 0.2020 - val_accuracy: 0.9095 - val_precision: 0.7871 - val_recall: 0.8723\n",
      "Epoch 23/25\n",
      "2546/2546 [==============================] - 12s 5ms/step - loss: 0.1595 - accuracy: 0.9467 - precision: 0.9256 - recall: 0.9294 - val_loss: 0.1804 - val_accuracy: 0.9198 - val_precision: 0.8075 - val_recall: 0.8899\n",
      "Epoch 24/25\n",
      "2546/2546 [==============================] - 12s 5ms/step - loss: 0.1421 - accuracy: 0.9558 - precision: 0.9373 - recall: 0.9424 - val_loss: 0.1613 - val_accuracy: 0.9345 - val_precision: 0.8378 - val_recall: 0.9137\n",
      "Epoch 25/25\n",
      "2546/2546 [==============================] - 12s 5ms/step - loss: 0.1273 - accuracy: 0.9634 - precision: 0.9472 - recall: 0.9532 - val_loss: 0.1468 - val_accuracy: 0.9420 - val_precision: 0.8451 - val_recall: 0.9390\n"
     ]
    }
   ],
   "source": [
    "class EarlyStoppingAtMaxF1(keras.callbacks.Callback):\n",
    "    def __init__(self, patience=0):\n",
    "        super().__init__()\n",
    "        self.patience = patience\n",
    "        self.best_weights = None\n",
    "\n",
    "    def on_train_begin(self, logs=None):\n",
    "        self.wait = 0\n",
    "        self.stopped_epoch = 0\n",
    "        self.best = -np.Inf\n",
    "\n",
    "    def on_epoch_end(self, epoch, logs=None):\n",
    "        val_precision = logs.get(\"val_precision\")\n",
    "        '''\n",
    "        if val_precision == 1:\n",
    "            self.model.stop_training = True\n",
    "            return\n",
    "        '''\n",
    "        \n",
    "        val_recall = logs.get(\"val_recall\")\n",
    "        current_f1 = 2 * (val_precision * val_recall) / (val_precision + val_recall + 1e-7)\n",
    "        \n",
    "        #print(f\" - val_f1: {current_f1:.4f}\")\n",
    "\n",
    "        if current_f1 > self.best:\n",
    "            self.best = current_f1\n",
    "            self.wait = 0\n",
    "            self.best_weights = self.model.get_weights()\n",
    "        else:\n",
    "            self.wait += 1\n",
    "            if self.wait >= self.patience:\n",
    "                self.stopped_epoch = epoch\n",
    "                self.model.stop_training = True\n",
    "                print(\"Restoring model weights from the end of the best epoch for F1.\")\n",
    "                self.model.set_weights(self.best_weights)\n",
    "\n",
    "    def on_train_end(self, logs=None):\n",
    "        if self.stopped_epoch > 0:\n",
    "            print(f\"Epoch {self.stopped_epoch + 1}: early stopping with max val_f1 of {self.best:.4f}\")   \n",
    "             \n",
    "t_callbacks = [\n",
    "    #tf.keras.callbacks.LearningRateScheduler(lr_scheduler), \n",
    "    #keras.callbacks.EarlyStopping(monitor='val_loss', patience=15),\n",
    "    EarlyStoppingAtMaxF1(patience = 15)\n",
    "]\n",
    "\n",
    "history = model.fit(X_train, \n",
    "                    Y_train, \n",
    "                    epochs=epochs, \n",
    "                    batch_size=32,\n",
    "                    shuffle = True,\n",
    "                    validation_data=(X_val, Y_val),\n",
    "                    callbacks=t_callbacks\n",
    "                   )"
   ]
  },
  {
   "cell_type": "code",
   "execution_count": 16,
   "id": "34badd4b-ce03-42ce-a3e7-9b695047026b",
   "metadata": {
    "execution": {
     "iopub.execute_input": "2024-05-10T02:48:06.797300Z",
     "iopub.status.busy": "2024-05-10T02:48:06.797225Z",
     "iopub.status.idle": "2024-05-10T02:48:06.949590Z",
     "shell.execute_reply": "2024-05-10T02:48:06.949081Z",
     "shell.execute_reply.started": "2024-05-10T02:48:06.797300Z"
    }
   },
   "outputs": [
    {
     "data": {
      "image/png": "[encoded data removed]",
      "text/plain": [
       "<Figure size 640x480 with 1 Axes>"
      ]
     },
     "metadata": {},
     "output_type": "display_data"
    },
    {
     "data": {
      "image/png": "[encoded data removed]",
      "text/plain": [
       "<Figure size 640x480 with 1 Axes>"
      ]
     },
     "metadata": {},
     "output_type": "display_data"
    }
   ],
   "source": [
    "# summarize history for accuracy\n",
    "plt.plot(history.history['accuracy'])\n",
    "plt.plot(history.history['val_accuracy'])\n",
    "plt.title('model accuracy')\n",
    "plt.ylabel('accuracy')\n",
    "plt.xlabel('epoch')\n",
    "plt.legend(['train', 'test'], loc='upper left')\n",
    "plt.show()\n",
    "# summarize history for loss\n",
    "plt.plot(history.history['loss'])\n",
    "plt.plot(history.history['val_loss'])\n",
    "plt.title('model loss')\n",
    "plt.ylabel('loss')\n",
    "plt.xlabel('epoch')\n",
    "plt.legend(['train', 'test'], loc='upper left')\n",
    "plt.show()\n"
   ]
  },
  {
   "cell_type": "code",
   "execution_count": 17,
   "id": "a223128c-6453-429b-888c-e46ddc702c39",
   "metadata": {
    "execution": {
     "iopub.execute_input": "2024-05-10T02:48:20.007024Z",
     "iopub.status.busy": "2024-05-10T02:48:20.006762Z",
     "iopub.status.idle": "2024-05-10T02:48:20.093371Z",
     "shell.execute_reply": "2024-05-10T02:48:20.093182Z",
     "shell.execute_reply.started": "2024-05-10T02:48:20.007024Z"
    }
   },
   "outputs": [
    {
     "data": {
      "image/png": "[encoded data removed]",
      "text/plain": [
       "<Figure size 1000x600 with 1 Axes>"
      ]
     },
     "metadata": {},
     "output_type": "display_data"
    }
   ],
   "source": [
    "def calculate_f1_scores(precision, recall):\n",
    "    f1_scores = 2 * (precision * recall) / (precision + recall + 1e-7)\n",
    "    return f1_scores\n",
    "\n",
    "val_precision = history.history['val_precision']\n",
    "val_recall = history.history['val_recall']\n",
    "\n",
    "val_f1_scores = calculate_f1_scores(np.array(val_precision), np.array(val_recall))\n",
    "\n",
    "\n",
    "plt.figure(figsize=(10, 6))\n",
    "plt.plot(val_f1_scores, label='Validation F1 Score')\n",
    "plt.title('Validation F1 score over epochs')\n",
    "plt.xlabel('Epoch')\n",
    "plt.ylabel('F1 Score')\n",
    "plt.legend()\n",
    "plt.grid(True)\n",
    "plt.show()"
   ]
  },
  {
   "cell_type": "code",
   "execution_count": 18,
   "id": "4d599191-7cf0-41cc-b8e2-f256191cffbd",
   "metadata": {
    "execution": {
     "iopub.execute_input": "2024-05-10T02:48:26.922526Z",
     "iopub.status.busy": "2024-05-10T02:48:26.922526Z",
     "iopub.status.idle": "2024-05-10T02:48:27.464232Z",
     "shell.execute_reply": "2024-05-10T02:48:27.464145Z",
     "shell.execute_reply.started": "2024-05-10T02:48:26.922526Z"
    },
    "scrolled": true
   },
   "outputs": [
    {
     "name": "stdout",
     "output_type": "stream",
     "text": [
      "144/144 [==============================] - 0s 3ms/step - loss: 0.0918 - accuracy: 0.9748 - precision: 0.9436 - recall: 0.9672\n",
      "f1_score = 0.9552814149075012\n"
     ]
    }
   ],
   "source": [
    "model_evaluation_history = model.evaluate(X_test, Y_test)\n",
    "\n",
    "precision = model_evaluation_history[2] \n",
    "recall = model_evaluation_history[3] \n",
    "f1_score = 2 * (precision * recall) / (precision + recall)\n",
    "print(\"f1_score =\", f1_score)"
   ]
  },
  {
   "cell_type": "code",
   "execution_count": 19,
   "id": "412f5121-3ea6-4a90-b22e-c347175a9a25",
   "metadata": {
    "execution": {
     "iopub.execute_input": "2024-05-10T02:48:30.149444Z",
     "iopub.status.busy": "2024-05-10T02:48:30.148465Z",
     "iopub.status.idle": "2024-05-10T02:48:30.726506Z",
     "shell.execute_reply": "2024-05-10T02:48:30.726506Z",
     "shell.execute_reply.started": "2024-05-10T02:48:30.149444Z"
    }
   },
   "outputs": [
    {
     "name": "stdout",
     "output_type": "stream",
     "text": [
      "144/144 [==============================] - 0s 2ms/step\n"
     ]
    }
   ],
   "source": [
    "y_scores = model.predict(X_test)\n",
    "\n",
    "y_pred = (y_scores > 0.5).astype(\"int32\")\n",
    "y_pred = np.reshape(y_pred, -1)\n",
    "\n",
    "y_true = Y_test"
   ]
  },
  {
   "cell_type": "code",
   "execution_count": 171,
   "id": "b7356317-c964-4726-9d0a-0c83be7e50f9",
   "metadata": {
    "execution": {
     "iopub.execute_input": "2024-05-09T17:30:21.390303Z",
     "iopub.status.busy": "2024-05-09T17:30:21.390303Z",
     "iopub.status.idle": "2024-05-09T17:30:21.502128Z",
     "shell.execute_reply": "2024-05-09T17:30:21.502128Z",
     "shell.execute_reply.started": "2024-05-09T17:30:21.390303Z"
    }
   },
   "outputs": [
    {
     "data": {
      "image/png": "[encoded data removed]",
      "text/plain": [
       "<Figure size 640x480 with 2 Axes>"
      ]
     },
     "metadata": {},
     "output_type": "display_data"
    }
   ],
   "source": [
    "cm = confusion_matrix(y_true, y_pred)\n",
    "sns.heatmap(cm, annot=True, fmt='d')\n",
    "plt.title('Confusion Matrix')\n",
    "plt.xlabel('Predicted')\n",
    "plt.ylabel('True')\n",
    "plt.show()"
   ]
  },
  {
   "cell_type": "code",
   "execution_count": 126,
   "id": "d07d11fc-edcd-4112-acee-dc3e415f3bde",
   "metadata": {
    "execution": {
     "iopub.execute_input": "2024-05-09T16:46:36.265162Z",
     "iopub.status.busy": "2024-05-09T16:46:36.265162Z",
     "iopub.status.idle": "2024-05-09T16:46:36.281006Z",
     "shell.execute_reply": "2024-05-09T16:46:36.280029Z",
     "shell.execute_reply.started": "2024-05-09T16:46:36.265162Z"
    },
    "scrolled": true
   },
   "outputs": [
    {
     "data": {
      "text/plain": [
       "[{'filename': 'test\\\\UR\\\\FALL\\\\fall-20-cam0-rgb.mp4_107',\n",
       "  'data': array([0.64673364, 0.48459631]),\n",
       "  'predicted': 0,\n",
       "  'actual': 1},\n",
       " {'filename': 'test\\\\UR\\\\FALL\\\\fall-20-cam0-rgb.mp4_flip_247',\n",
       "  'data': array([0.35304251, 0.48646659]),\n",
       "  'predicted': 0,\n",
       "  'actual': 1},\n",
       " {'filename': 'testclone2\\\\UR\\\\FALL\\\\fall-20-cam0-rgb.mp4_107',\n",
       "  'data': array([0.64673364, 0.48459631]),\n",
       "  'predicted': 0,\n",
       "  'actual': 1},\n",
       " {'filename': 'testclone2\\\\UR\\\\FALL\\\\fall-20-cam0-rgb.mp4_flip_247',\n",
       "  'data': array([0.35304251, 0.48646659]),\n",
       "  'predicted': 0,\n",
       "  'actual': 1},\n",
       " {'filename': 'testclone3\\\\UR\\\\FALL\\\\fall-20-cam0-rgb.mp4_107',\n",
       "  'data': array([0.64673364, 0.48459631]),\n",
       "  'predicted': 0,\n",
       "  'actual': 1},\n",
       " {'filename': 'testclone3\\\\UR\\\\FALL\\\\fall-20-cam0-rgb.mp4_flip_247',\n",
       "  'data': array([0.35304251, 0.48646659]),\n",
       "  'predicted': 0,\n",
       "  'actual': 1},\n",
       " {'filename': 'testclone4\\\\UR\\\\FALL\\\\fall-20-cam0-rgb.mp4_107',\n",
       "  'data': array([0.64673364, 0.48459631]),\n",
       "  'predicted': 0,\n",
       "  'actual': 1},\n",
       " {'filename': 'testclone4\\\\UR\\\\FALL\\\\fall-20-cam0-rgb.mp4_flip_247',\n",
       "  'data': array([0.35304251, 0.48646659]),\n",
       "  'predicted': 0,\n",
       "  'actual': 1},\n",
       " {'filename': 'testclone5\\\\UR\\\\FALL\\\\fall-20-cam0-rgb.mp4_107',\n",
       "  'data': array([0.64673364, 0.48459631]),\n",
       "  'predicted': 0,\n",
       "  'actual': 1},\n",
       " {'filename': 'testclone5\\\\UR\\\\FALL\\\\fall-20-cam0-rgb.mp4_flip_247',\n",
       "  'data': array([0.35304251, 0.48646659]),\n",
       "  'predicted': 0,\n",
       "  'actual': 1},\n",
       " {'filename': 'testclone6\\\\UR\\\\FALL\\\\fall-20-cam0-rgb.mp4_107',\n",
       "  'data': array([0.64673364, 0.48459631]),\n",
       "  'predicted': 0,\n",
       "  'actual': 1},\n",
       " {'filename': 'testclone6\\\\UR\\\\FALL\\\\fall-20-cam0-rgb.mp4_flip_247',\n",
       "  'data': array([0.35304251, 0.48646659]),\n",
       "  'predicted': 0,\n",
       "  'actual': 1},\n",
       " {'filename': 'testclone7\\\\UR\\\\FALL\\\\fall-20-cam0-rgb.mp4_107',\n",
       "  'data': array([0.64673364, 0.48459631]),\n",
       "  'predicted': 0,\n",
       "  'actual': 1},\n",
       " {'filename': 'testclone7\\\\UR\\\\FALL\\\\fall-20-cam0-rgb.mp4_flip_247',\n",
       "  'data': array([0.35304251, 0.48646659]),\n",
       "  'predicted': 0,\n",
       "  'actual': 1},\n",
       " {'filename': 'test\\\\UR\\\\ADL\\\\adl-01-cam0-rgb.mp4_21_b2',\n",
       "  'data': array([0.37906399, 0.45566997]),\n",
       "  'predicted': 1,\n",
       "  'actual': 0},\n",
       " {'filename': 'test\\\\UR\\\\ADL\\\\adl-31-cam0-rgb.mp4_27_b2',\n",
       "  'data': array([0.73056531, 0.57261622]),\n",
       "  'predicted': 1,\n",
       "  'actual': 0},\n",
       " {'filename': 'test\\\\UR\\\\ADL\\\\adl-35-cam0-rgb.mp4_30_b2',\n",
       "  'data': array([0.73481542, 0.64836031]),\n",
       "  'predicted': 1,\n",
       "  'actual': 0},\n",
       " {'filename': 'test\\\\UR\\\\ADL\\\\adl-39-cam0-rgb.mp4_33_b2',\n",
       "  'data': array([0.29108888, 0.68287665]),\n",
       "  'predicted': 1,\n",
       "  'actual': 0},\n",
       " {'filename': 'test\\\\YTB\\\\adl (2).mp4_6_b2',\n",
       "  'data': array([0.46744528, 0.74678069]),\n",
       "  'predicted': 1,\n",
       "  'actual': 0},\n",
       " {'filename': 'test\\\\YTB\\\\adl (3).mp4_9_b2',\n",
       "  'data': array([0.57069421, 0.48930109]),\n",
       "  'predicted': 1,\n",
       "  'actual': 0},\n",
       " {'filename': 'test\\\\YTB\\\\adl (5).mp4_15_b2',\n",
       "  'data': array([0.50685805, 0.64433032]),\n",
       "  'predicted': 1,\n",
       "  'actual': 0}]"
      ]
     },
     "execution_count": 126,
     "metadata": {},
     "output_type": "execute_result"
    }
   ],
   "source": [
    "incorrect_indices = np.where(y_pred != y_true)[0]\n",
    "incorrect_samples_dict = {}\n",
    "\n",
    "for idx in incorrect_indices:\n",
    "    incorrect_samples_dict[Video_IDs_test[idx]] = {\n",
    "        \"filename\": Video_IDs_test[idx],\n",
    "        \"data\":X_test[idx][0][0:2],\n",
    "        \"predicted\": y_pred[idx],\n",
    "        \"actual\": y_true[idx]\n",
    "    }\n",
    "incorrect_samples_info = list(incorrect_samples_dict.values())\n",
    "incorrect_samples_info"
   ]
  },
  {
   "cell_type": "code",
   "execution_count": 57,
   "id": "edbea909-4bef-4128-8f78-b6c252ed5dcc",
   "metadata": {
    "execution": {
     "iopub.execute_input": "2024-05-09T15:05:40.615482Z",
     "iopub.status.busy": "2024-05-09T15:05:40.614478Z",
     "iopub.status.idle": "2024-05-09T15:05:45.620794Z",
     "shell.execute_reply": "2024-05-09T15:05:45.620794Z",
     "shell.execute_reply.started": "2024-05-09T15:05:40.615482Z"
    }
   },
   "outputs": [
    {
     "name": "stderr",
     "output_type": "stream",
     "text": [
      "WARNING:absl:Found untraced functions such as lstm_cell_2_layer_call_fn, lstm_cell_2_layer_call_and_return_conditional_losses while saving (showing 2 of 2). These functions will not be directly callable after loading.\n"
     ]
    },
    {
     "name": "stdout",
     "output_type": "stream",
     "text": [
      "INFO:tensorflow:Assets written to: C:\\Users\\caokh\\AppData\\Local\\Temp\\tmpcfj96ixs\\assets\n"
     ]
    },
    {
     "name": "stderr",
     "output_type": "stream",
     "text": [
      "INFO:tensorflow:Assets written to: C:\\Users\\caokh\\AppData\\Local\\Temp\\tmpcfj96ixs\\assets\n"
     ]
    }
   ],
   "source": [
    "converter = tf.lite.TFLiteConverter.from_keras_model(model) \n",
    "converter.target_spec.supported_ops = [\n",
    "  tf.lite.OpsSet.TFLITE_BUILTINS, # enable TensorFlow Lite ops.\n",
    "  tf.lite.OpsSet.SELECT_TF_OPS # enable TensorFlow ops.\n",
    "]\n",
    "tflite_model = converter.convert()\n",
    "\n",
    "filename = \"model_may_scale_6_4_pi_highest\"\n",
    "with open(filename + '.tflite', 'wb') as f:\n",
    "  f.write(tflite_model)\n",
    "\n",
    "model.save(filename + \".h5\")"
   ]
  },
  {
   "cell_type": "code",
   "execution_count": 12,
   "id": "8379d02d-94cf-47f1-ac8c-743fc1a9ef19",
   "metadata": {
    "execution": {
     "iopub.execute_input": "2024-06-06T08:16:38.543459Z",
     "iopub.status.busy": "2024-06-06T08:16:38.543459Z",
     "iopub.status.idle": "2024-06-06T08:16:38.571811Z",
     "shell.execute_reply": "2024-06-06T08:16:38.571811Z",
     "shell.execute_reply.started": "2024-06-06T08:16:38.543459Z"
    }
   },
   "outputs": [],
   "source": [
    "model.load_weights(\"model_may_scale_6_4_pi_highest.h5\")"
   ]
  },
  {
   "cell_type": "code",
   "execution_count": 54,
   "id": "654c32e9-06f6-48b4-bf8b-31134ee0881a",
   "metadata": {
    "execution": {
     "iopub.execute_input": "2024-06-06T08:49:05.499708Z",
     "iopub.status.busy": "2024-06-06T08:49:05.499708Z",
     "iopub.status.idle": "2024-06-06T08:49:06.389204Z",
     "shell.execute_reply": "2024-06-06T08:49:06.389204Z",
     "shell.execute_reply.started": "2024-06-06T08:49:05.499708Z"
    }
   },
   "outputs": [],
   "source": [
    "extracted_features_path_pi_test = 'extracted_features/pi_test/'\n",
    "fall_df_pi_test = pd.read_csv(extracted_features_path_pi_test + \"FALL.csv\")\n",
    "not_fall_df_pi_test = pd.read_csv(extracted_features_path_pi_test + \"NOT_FALL.csv\")\n",
    "\n",
    "X_pi_test = []\n",
    "Y_pi_test = []\n",
    "Video_IDs_pi_test = [] \n",
    "grouped = fall_df_pi_test.groupby('videoid') \n",
    "\n",
    "for video_id, group in grouped:\n",
    "    dataset = group.iloc[:, 2:].values \n",
    "    sequences = generate_sequences(dataset, no_of_timesteps)\n",
    "    \n",
    "    for sequence in sequences:\n",
    "        X_pi_test.append(sequence)\n",
    "        Y_pi_test.append(1) \n",
    "        Video_IDs_pi_test.append(video_id)\n",
    "grouped = not_fall_df_pi_test.groupby('videoid')\n",
    "\n",
    "for video_id, group in grouped:\n",
    "    dataset = group.iloc[:, 2:].values \n",
    "    \n",
    "    sequences = generate_sequences(dataset, no_of_timesteps)\n",
    "    for sequence in sequences:\n",
    "        X_pi_test.append(sequence)\n",
    "        Y_pi_test.append(0) \n",
    "        Video_IDs_pi_test.append(video_id)\n",
    "\n",
    "X_pi_test, Y_pi_test = np.array(X_pi_test), np.array(Y_pi_test)"
   ]
  },
  {
   "cell_type": "code",
   "execution_count": 55,
   "id": "95a23f32-4296-4d3d-bb2b-d5b5d39ae642",
   "metadata": {
    "execution": {
     "iopub.execute_input": "2024-06-06T08:49:06.390184Z",
     "iopub.status.busy": "2024-06-06T08:49:06.390184Z",
     "iopub.status.idle": "2024-06-06T08:49:07.580350Z",
     "shell.execute_reply": "2024-06-06T08:49:07.580350Z",
     "shell.execute_reply.started": "2024-06-06T08:49:06.390184Z"
    }
   },
   "outputs": [
    {
     "name": "stdout",
     "output_type": "stream",
     "text": [
      "333/333 [==============================] - 1s 3ms/step - loss: 0.4896 - accuracy: 0.8976 - precision: 0.9070 - recall: 0.8778\n",
      "f1_score = 0.8921675610982129\n"
     ]
    }
   ],
   "source": [
    "model_test_history = model.evaluate(X_pi_test, Y_pi_test)\n",
    "\n",
    "precision = model_test_history[2] \n",
    "recall = model_test_history[3] \n",
    "f1_score = 2 * (precision * recall) / (precision + recall)\n",
    "print(\"f1_score =\", f1_score)"
   ]
  },
  {
   "cell_type": "code",
   "execution_count": 56,
   "id": "b8522342-28dc-49d5-a861-507ad56390a5",
   "metadata": {
    "execution": {
     "iopub.execute_input": "2024-06-06T08:49:07.581325Z",
     "iopub.status.busy": "2024-06-06T08:49:07.581325Z",
     "iopub.status.idle": "2024-06-06T08:49:12.244564Z",
     "shell.execute_reply": "2024-06-06T08:49:12.244564Z",
     "shell.execute_reply.started": "2024-06-06T08:49:07.581325Z"
    }
   },
   "outputs": [
    {
     "name": "stdout",
     "output_type": "stream",
     "text": [
      "Precision: 0.9070235459851077\n",
      "Recall: 0.8782151208106002\n",
      "F1 Score: 0.8923868923868924\n"
     ]
    },
    {
     "data": {
      "image/png": "[encoded data removed]",
      "text/plain": [
       "<Figure size 640x480 with 2 Axes>"
      ]
     },
     "metadata": {},
     "output_type": "display_data"
    }
   ],
   "source": [
    "interpreter = tf.lite.Interpreter(model_path='model_may_scale_6_4_pi_highest.tflite')\n",
    "interpreter.allocate_tensors()\n",
    "\n",
    "input_details = interpreter.get_input_details()\n",
    "output_details = interpreter.get_output_details()\n",
    "\n",
    "input_shape = input_details[0]['shape']\n",
    "output_shape = output_details[0]['shape']\n",
    "\n",
    "predictions = []\n",
    "for i in range(len(X_pi_test)):\n",
    "    input_data = np.array(X_pi_test[i], dtype=np.float32).reshape(input_shape)\n",
    "    interpreter.set_tensor(input_details[0]['index'], input_data)\n",
    "\n",
    "    interpreter.invoke()\n",
    "    \n",
    "    output_data = interpreter.get_tensor(output_details[0]['index'])\n",
    "    predictions.append(output_data)\n",
    "\n",
    "predictions = np.array(predictions).squeeze() \n",
    "true_labels = np.array(Y_pi_test).squeeze() \n",
    "\n",
    "predicted_labels = (predictions >= 0.5).astype(int)\n",
    "\n",
    "TP = np.sum((predicted_labels == 1) & (true_labels == 1))\n",
    "FP = np.sum((predicted_labels == 1) & (true_labels == 0))\n",
    "FN = np.sum((predicted_labels == 0) & (true_labels == 1))\n",
    "\n",
    "precision = TP / (TP + FP) if (TP + FP) > 0 else 0\n",
    "recall = TP / (TP + FN) if (TP + FN) > 0 else 0\n",
    "\n",
    "f1_score = 2 * (precision * recall) / (precision + recall) if (precision + recall) > 0 else 0\n",
    "\n",
    "print('Precision:', precision)\n",
    "print('Recall:', recall)\n",
    "print('F1 Score:', f1_score)\n",
    "\n",
    "cm = confusion_matrix(true_labels, predicted_labels)\n",
    "sns.heatmap(cm, annot=True, fmt='d')\n",
    "plt.title('Confusion Matrix')\n",
    "plt.xlabel('Predicted')\n",
    "plt.ylabel('True')\n",
    "plt.show()"
   ]
  },
  {
   "cell_type": "code",
   "execution_count": 41,
   "id": "375e3d97-9f02-43a6-9671-7c04d049c69b",
   "metadata": {
    "execution": {
     "iopub.execute_input": "2024-06-06T08:37:11.336771Z",
     "iopub.status.busy": "2024-06-06T08:37:11.336771Z",
     "iopub.status.idle": "2024-06-06T08:37:11.347644Z",
     "shell.execute_reply": "2024-06-06T08:37:11.346667Z",
     "shell.execute_reply.started": "2024-06-06T08:37:11.336771Z"
    }
   },
   "outputs": [
    {
     "data": {
      "text/plain": [
       "1503"
      ]
     },
     "execution_count": 41,
     "metadata": {},
     "output_type": "execute_result"
    }
   ],
   "source": [
    "incorrect_indices = np.where(predicted_labels != true_labels)[0]\n",
    "incorrect_samples_dict = {}\n",
    "\n",
    "for idx in incorrect_indices:\n",
    "    incorrect_samples_dict[Video_IDs_pi_test[idx]] = {\n",
    "        \"filename\": Video_IDs_pi_test[idx],\n",
    "        \"data\":X_pi_test[idx][0][0:2],\n",
    "        \"predicted\": predicted_labels[idx],\n",
    "        \"actual\": true_labels[idx]\n",
    "    }\n",
    "incorrect_samples_info = list(incorrect_samples_dict.values())\n",
    "len(incorrect_indices)"
   ]
  },
  {
   "cell_type": "code",
   "execution_count": 53,
   "id": "807ec33e-a1ea-49cc-9361-e5c917b48fb3",
   "metadata": {
    "execution": {
     "iopub.execute_input": "2024-06-06T08:46:49.826654Z",
     "iopub.status.busy": "2024-06-06T08:46:49.825676Z",
     "iopub.status.idle": "2024-06-06T08:46:49.852692Z",
     "shell.execute_reply": "2024-06-06T08:46:49.851628Z",
     "shell.execute_reply.started": "2024-06-06T08:46:49.826654Z"
    }
   },
   "outputs": [
    {
     "data": {
      "text/plain": [
       "[{'filename': 'pi_test_set\\\\videos\\\\real11.mp4_flip_crop2_rotate-5_1587',\n",
       "  'predicted': 0,\n",
       "  'actual': 1,\n",
       "  'count': 1},\n",
       " {'filename': 'pi_test_set\\\\videos\\\\real11.mp4_flip_crop4_1249',\n",
       "  'predicted': 0,\n",
       "  'actual': 1,\n",
       "  'count': 1},\n",
       " {'filename': 'pi_test_set\\\\videos\\\\real11.mp4_flip_crop4_rotate-5_1635',\n",
       "  'predicted': 0,\n",
       "  'actual': 1,\n",
       "  'count': 1},\n",
       " {'filename': 'pi_test_set\\\\videos\\\\real11.mp4_flip_crop6_1299',\n",
       "  'predicted': 0,\n",
       "  'actual': 1,\n",
       "  'count': 1},\n",
       " {'filename': 'pi_test_set\\\\videos\\\\real11.mp4_flip_crop6_rotate-5_1683',\n",
       "  'predicted': 0,\n",
       "  'actual': 1,\n",
       "  'count': 2},\n",
       " {'filename': 'pi_test_set\\\\videos\\\\real11.mp4_flip_rotate-5_1539',\n",
       "  'predicted': 0,\n",
       "  'actual': 1,\n",
       "  'count': 1},\n",
       " {'filename': 'pi_test_set\\\\videos\\\\real12.mp4_36',\n",
       "  'predicted': 0,\n",
       "  'actual': 1,\n",
       "  'count': 8},\n",
       " {'filename': 'pi_test_set\\\\videos\\\\real12.mp4_crop2_72',\n",
       "  'predicted': 0,\n",
       "  'actual': 1,\n",
       "  'count': 7},\n",
       " {'filename': 'pi_test_set\\\\videos\\\\real12.mp4_crop2_rotate-5_439',\n",
       "  'predicted': 0,\n",
       "  'actual': 1,\n",
       "  'count': 8},\n",
       " {'filename': 'pi_test_set\\\\videos\\\\real12.mp4_crop2_rotate5_247',\n",
       "  'predicted': 0,\n",
       "  'actual': 1,\n",
       "  'count': 7},\n",
       " {'filename': 'pi_test_set\\\\videos\\\\real12.mp4_crop4_108',\n",
       "  'predicted': 0,\n",
       "  'actual': 1,\n",
       "  'count': 7},\n",
       " {'filename': 'pi_test_set\\\\videos\\\\real12.mp4_crop4_noise_679',\n",
       "  'predicted': 0,\n",
       "  'actual': 1,\n",
       "  'count': 6},\n",
       " {'filename': 'pi_test_set\\\\videos\\\\real12.mp4_crop4_rotate-5_487',\n",
       "  'predicted': 0,\n",
       "  'actual': 1,\n",
       "  'count': 8},\n",
       " {'filename': 'pi_test_set\\\\videos\\\\real12.mp4_crop4_rotate5_295',\n",
       "  'predicted': 0,\n",
       "  'actual': 1,\n",
       "  'count': 6},\n",
       " {'filename': 'pi_test_set\\\\videos\\\\real12.mp4_crop6_151',\n",
       "  'predicted': 0,\n",
       "  'actual': 1,\n",
       "  'count': 6},\n",
       " {'filename': 'pi_test_set\\\\videos\\\\real12.mp4_crop6_noise_727',\n",
       "  'predicted': 0,\n",
       "  'actual': 1,\n",
       "  'count': 6},\n",
       " {'filename': 'pi_test_set\\\\videos\\\\real12.mp4_crop6_rotate-5_535',\n",
       "  'predicted': 0,\n",
       "  'actual': 1,\n",
       "  'count': 7},\n",
       " {'filename': 'pi_test_set\\\\videos\\\\real12.mp4_crop6_rotate5_343',\n",
       "  'predicted': 0,\n",
       "  'actual': 1,\n",
       "  'count': 5},\n",
       " {'filename': 'pi_test_set\\\\videos\\\\real12.mp4_crop6_rotate5_noise_919',\n",
       "  'predicted': 0,\n",
       "  'actual': 1,\n",
       "  'count': 6},\n",
       " {'filename': 'pi_test_set\\\\videos\\\\real12.mp4_flip_1159',\n",
       "  'predicted': 0,\n",
       "  'actual': 1,\n",
       "  'count': 13},\n",
       " {'filename': 'pi_test_set\\\\videos\\\\real12.mp4_flip_crop4_noise_1831',\n",
       "  'predicted': 0,\n",
       "  'actual': 1,\n",
       "  'count': 12},\n",
       " {'filename': 'pi_test_set\\\\videos\\\\real12.mp4_flip_crop4_rotate-5_1638',\n",
       "  'predicted': 0,\n",
       "  'actual': 1,\n",
       "  'count': 13},\n",
       " {'filename': 'pi_test_set\\\\videos\\\\real12.mp4_flip_crop4_rotate5_1447',\n",
       "  'predicted': 0,\n",
       "  'actual': 1,\n",
       "  'count': 13},\n",
       " {'filename': 'pi_test_set\\\\videos\\\\real12.mp4_flip_crop6_1303',\n",
       "  'predicted': 0,\n",
       "  'actual': 1,\n",
       "  'count': 13},\n",
       " {'filename': 'pi_test_set\\\\videos\\\\real12.mp4_flip_crop6_noise_1879',\n",
       "  'predicted': 0,\n",
       "  'actual': 1,\n",
       "  'count': 11},\n",
       " {'filename': 'pi_test_set\\\\videos\\\\real12.mp4_flip_crop6_rotate-5_1687',\n",
       "  'predicted': 0,\n",
       "  'actual': 1,\n",
       "  'count': 13},\n",
       " {'filename': 'pi_test_set\\\\videos\\\\real12.mp4_flip_crop6_rotate5_1495',\n",
       "  'predicted': 0,\n",
       "  'actual': 1,\n",
       "  'count': 13},\n",
       " {'filename': 'pi_test_set\\\\videos\\\\real12.mp4_flip_crop6_rotate5_noise_2071',\n",
       "  'predicted': 0,\n",
       "  'actual': 1,\n",
       "  'count': 13},\n",
       " {'filename': 'pi_test_set\\\\videos\\\\real12.mp4_flip_noise_1735',\n",
       "  'predicted': 0,\n",
       "  'actual': 1,\n",
       "  'count': 13},\n",
       " {'filename': 'pi_test_set\\\\videos\\\\real12.mp4_flip_rotate-5_1542',\n",
       "  'predicted': 0,\n",
       "  'actual': 1,\n",
       "  'count': 13},\n",
       " {'filename': 'pi_test_set\\\\videos\\\\real12.mp4_flip_rotate-5_noise_2119',\n",
       "  'predicted': 0,\n",
       "  'actual': 1,\n",
       "  'count': 13},\n",
       " {'filename': 'pi_test_set\\\\videos\\\\real12.mp4_flip_rotate5_1351',\n",
       "  'predicted': 0,\n",
       "  'actual': 1,\n",
       "  'count': 13},\n",
       " {'filename': 'pi_test_set\\\\videos\\\\real12.mp4_flip_rotate5_noise_1927',\n",
       "  'predicted': 0,\n",
       "  'actual': 1,\n",
       "  'count': 13},\n",
       " {'filename': 'pi_test_set\\\\videos\\\\real12.mp4_noise_583',\n",
       "  'predicted': 0,\n",
       "  'actual': 1,\n",
       "  'count': 8},\n",
       " {'filename': 'pi_test_set\\\\videos\\\\real12.mp4_rotate-5_390',\n",
       "  'predicted': 0,\n",
       "  'actual': 1,\n",
       "  'count': 8},\n",
       " {'filename': 'pi_test_set\\\\videos\\\\real12.mp4_rotate-5_noise_967',\n",
       "  'predicted': 0,\n",
       "  'actual': 1,\n",
       "  'count': 8},\n",
       " {'filename': 'pi_test_set\\\\videos\\\\real12.mp4_rotate5_199',\n",
       "  'predicted': 0,\n",
       "  'actual': 1,\n",
       "  'count': 7},\n",
       " {'filename': 'pi_test_set\\\\videos\\\\real12.mp4_rotate5_noise_775',\n",
       "  'predicted': 0,\n",
       "  'actual': 1,\n",
       "  'count': 7},\n",
       " {'filename': 'pi_test_set\\\\videos\\\\real2.mp4_flip_1119',\n",
       "  'predicted': 0,\n",
       "  'actual': 1,\n",
       "  'count': 9},\n",
       " {'filename': 'pi_test_set\\\\videos\\\\real2.mp4_flip_crop2_1167',\n",
       "  'predicted': 0,\n",
       "  'actual': 1,\n",
       "  'count': 12},\n",
       " {'filename': 'pi_test_set\\\\videos\\\\real2.mp4_flip_crop2_noise_1743',\n",
       "  'predicted': 0,\n",
       "  'actual': 1,\n",
       "  'count': 8},\n",
       " {'filename': 'pi_test_set\\\\videos\\\\real2.mp4_flip_crop2_rotate-5_noise_2127',\n",
       "  'predicted': 0,\n",
       "  'actual': 1,\n",
       "  'count': 7},\n",
       " {'filename': 'pi_test_set\\\\videos\\\\real2.mp4_flip_crop2_rotate5_1358',\n",
       "  'predicted': 0,\n",
       "  'actual': 1,\n",
       "  'count': 11},\n",
       " {'filename': 'pi_test_set\\\\videos\\\\real2.mp4_flip_crop2_rotate5_noise_1935',\n",
       "  'predicted': 0,\n",
       "  'actual': 1,\n",
       "  'count': 5},\n",
       " {'filename': 'pi_test_set\\\\videos\\\\real2.mp4_flip_crop4_1215',\n",
       "  'predicted': 0,\n",
       "  'actual': 1,\n",
       "  'count': 7},\n",
       " {'filename': 'pi_test_set\\\\videos\\\\real2.mp4_flip_crop4_noise_1791',\n",
       "  'predicted': 0,\n",
       "  'actual': 1,\n",
       "  'count': 2},\n",
       " {'filename': 'pi_test_set\\\\videos\\\\real2.mp4_flip_crop4_rotate-5_1599',\n",
       "  'predicted': 0,\n",
       "  'actual': 1,\n",
       "  'count': 4},\n",
       " {'filename': 'pi_test_set\\\\videos\\\\real2.mp4_flip_crop4_rotate-5_noise_2175',\n",
       "  'predicted': 0,\n",
       "  'actual': 1,\n",
       "  'count': 1},\n",
       " {'filename': 'pi_test_set\\\\videos\\\\real2.mp4_flip_crop4_rotate5_1407',\n",
       "  'predicted': 0,\n",
       "  'actual': 1,\n",
       "  'count': 6},\n",
       " {'filename': 'pi_test_set\\\\videos\\\\real2.mp4_flip_crop4_rotate5_noise_1983',\n",
       "  'predicted': 0,\n",
       "  'actual': 1,\n",
       "  'count': 11},\n",
       " {'filename': 'pi_test_set\\\\videos\\\\real2.mp4_flip_crop6_noise_1839',\n",
       "  'predicted': 0,\n",
       "  'actual': 1,\n",
       "  'count': 3},\n",
       " {'filename': 'pi_test_set\\\\videos\\\\real2.mp4_flip_crop6_rotate5_1455',\n",
       "  'predicted': 0,\n",
       "  'actual': 1,\n",
       "  'count': 1},\n",
       " {'filename': 'pi_test_set\\\\videos\\\\real2.mp4_flip_noise_1695',\n",
       "  'predicted': 0,\n",
       "  'actual': 1,\n",
       "  'count': 12},\n",
       " {'filename': 'pi_test_set\\\\videos\\\\real2.mp4_flip_rotate-5_1503',\n",
       "  'predicted': 0,\n",
       "  'actual': 1,\n",
       "  'count': 3},\n",
       " {'filename': 'pi_test_set\\\\videos\\\\real2.mp4_flip_rotate-5_noise_2079',\n",
       "  'predicted': 0,\n",
       "  'actual': 1,\n",
       "  'count': 4},\n",
       " {'filename': 'pi_test_set\\\\videos\\\\real2.mp4_flip_rotate5_1311',\n",
       "  'predicted': 0,\n",
       "  'actual': 1,\n",
       "  'count': 14},\n",
       " {'filename': 'pi_test_set\\\\videos\\\\real2.mp4_flip_rotate5_noise_1887',\n",
       "  'predicted': 0,\n",
       "  'actual': 1,\n",
       "  'count': 14},\n",
       " {'filename': 'pi_test_set\\\\videos\\\\real5.mp4_flip_crop2_rotate5_1371',\n",
       "  'predicted': 0,\n",
       "  'actual': 1,\n",
       "  'count': 2},\n",
       " {'filename': 'pi_test_set\\\\videos\\\\real5.mp4_flip_crop2_rotate5_noise_1947',\n",
       "  'predicted': 0,\n",
       "  'actual': 1,\n",
       "  'count': 5},\n",
       " {'filename': 'pi_test_set\\\\videos\\\\real5.mp4_flip_crop4_rotate5_noise_1995',\n",
       "  'predicted': 0,\n",
       "  'actual': 1,\n",
       "  'count': 6},\n",
       " {'filename': 'pi_test_set\\\\videos\\\\real5.mp4_flip_crop6_rotate5_1467',\n",
       "  'predicted': 0,\n",
       "  'actual': 1,\n",
       "  'count': 1},\n",
       " {'filename': 'pi_test_set\\\\videos\\\\real5.mp4_flip_crop6_rotate5_noise_2043',\n",
       "  'predicted': 0,\n",
       "  'actual': 1,\n",
       "  'count': 6},\n",
       " {'filename': 'pi_test_set\\\\videos\\\\real5.mp4_flip_rotate5_noise_1899',\n",
       "  'predicted': 0,\n",
       "  'actual': 1,\n",
       "  'count': 1},\n",
       " {'filename': 'pi_test_set\\\\videos\\\\real6.mp4_crop2_rotate-5_noise_991',\n",
       "  'predicted': 0,\n",
       "  'actual': 1,\n",
       "  'count': 2},\n",
       " {'filename': 'pi_test_set\\\\videos\\\\real6.mp4_crop6_rotate-5_noise_1087',\n",
       "  'predicted': 0,\n",
       "  'actual': 1,\n",
       "  'count': 2},\n",
       " {'filename': 'pi_test_set\\\\videos\\\\real6.mp4_flip_crop6_rotate5_noise_2047',\n",
       "  'predicted': 0,\n",
       "  'actual': 1,\n",
       "  'count': 6},\n",
       " {'filename': 'pi_test_set\\\\videos\\\\real7.mp4_21',\n",
       "  'predicted': 0,\n",
       "  'actual': 1,\n",
       "  'count': 3},\n",
       " {'filename': 'pi_test_set\\\\videos\\\\real7.mp4_crop2_57',\n",
       "  'predicted': 0,\n",
       "  'actual': 1,\n",
       "  'count': 3},\n",
       " {'filename': 'pi_test_set\\\\videos\\\\real7.mp4_crop2_noise_611',\n",
       "  'predicted': 0,\n",
       "  'actual': 1,\n",
       "  'count': 4},\n",
       " {'filename': 'pi_test_set\\\\videos\\\\real7.mp4_crop2_rotate-5_noise_995',\n",
       "  'predicted': 0,\n",
       "  'actual': 1,\n",
       "  'count': 3},\n",
       " {'filename': 'pi_test_set\\\\videos\\\\real7.mp4_crop2_rotate5_227',\n",
       "  'predicted': 0,\n",
       "  'actual': 1,\n",
       "  'count': 5},\n",
       " {'filename': 'pi_test_set\\\\videos\\\\real7.mp4_crop2_rotate5_noise_803',\n",
       "  'predicted': 0,\n",
       "  'actual': 1,\n",
       "  'count': 5},\n",
       " {'filename': 'pi_test_set\\\\videos\\\\real7.mp4_crop4_93',\n",
       "  'predicted': 0,\n",
       "  'actual': 1,\n",
       "  'count': 4},\n",
       " {'filename': 'pi_test_set\\\\videos\\\\real7.mp4_crop4_noise_659',\n",
       "  'predicted': 0,\n",
       "  'actual': 1,\n",
       "  'count': 4},\n",
       " {'filename': 'pi_test_set\\\\videos\\\\real7.mp4_crop4_rotate-5_467',\n",
       "  'predicted': 0,\n",
       "  'actual': 1,\n",
       "  'count': 2},\n",
       " {'filename': 'pi_test_set\\\\videos\\\\real7.mp4_crop4_rotate-5_noise_1043',\n",
       "  'predicted': 0,\n",
       "  'actual': 1,\n",
       "  'count': 3},\n",
       " {'filename': 'pi_test_set\\\\videos\\\\real7.mp4_crop4_rotate5_275',\n",
       "  'predicted': 0,\n",
       "  'actual': 1,\n",
       "  'count': 5},\n",
       " {'filename': 'pi_test_set\\\\videos\\\\real7.mp4_crop4_rotate5_noise_850',\n",
       "  'predicted': 0,\n",
       "  'actual': 1,\n",
       "  'count': 5},\n",
       " {'filename': 'pi_test_set\\\\videos\\\\real7.mp4_crop6_131',\n",
       "  'predicted': 0,\n",
       "  'actual': 1,\n",
       "  'count': 4},\n",
       " {'filename': 'pi_test_set\\\\videos\\\\real7.mp4_crop6_noise_707',\n",
       "  'predicted': 0,\n",
       "  'actual': 1,\n",
       "  'count': 4},\n",
       " {'filename': 'pi_test_set\\\\videos\\\\real7.mp4_crop6_rotate-5_515',\n",
       "  'predicted': 0,\n",
       "  'actual': 1,\n",
       "  'count': 3},\n",
       " {'filename': 'pi_test_set\\\\videos\\\\real7.mp4_crop6_rotate-5_noise_1091',\n",
       "  'predicted': 0,\n",
       "  'actual': 1,\n",
       "  'count': 3},\n",
       " {'filename': 'pi_test_set\\\\videos\\\\real7.mp4_crop6_rotate5_323',\n",
       "  'predicted': 0,\n",
       "  'actual': 1,\n",
       "  'count': 5},\n",
       " {'filename': 'pi_test_set\\\\videos\\\\real7.mp4_crop6_rotate5_noise_899',\n",
       "  'predicted': 0,\n",
       "  'actual': 1,\n",
       "  'count': 5},\n",
       " {'filename': 'pi_test_set\\\\videos\\\\real7.mp4_noise_563',\n",
       "  'predicted': 0,\n",
       "  'actual': 1,\n",
       "  'count': 4},\n",
       " {'filename': 'pi_test_set\\\\videos\\\\real7.mp4_rotate-5_noise_947',\n",
       "  'predicted': 0,\n",
       "  'actual': 1,\n",
       "  'count': 3},\n",
       " {'filename': 'pi_test_set\\\\videos\\\\real7.mp4_rotate5_178',\n",
       "  'predicted': 0,\n",
       "  'actual': 1,\n",
       "  'count': 5},\n",
       " {'filename': 'pi_test_set\\\\videos\\\\real7.mp4_rotate5_noise_755',\n",
       "  'predicted': 0,\n",
       "  'actual': 1,\n",
       "  'count': 5},\n",
       " {'filename': 'pi_test_set\\\\videos\\\\real8.mp4_24',\n",
       "  'predicted': 0,\n",
       "  'actual': 1,\n",
       "  'count': 12},\n",
       " {'filename': 'pi_test_set\\\\videos\\\\real8.mp4_crop2_60',\n",
       "  'predicted': 0,\n",
       "  'actual': 1,\n",
       "  'count': 12},\n",
       " {'filename': 'pi_test_set\\\\videos\\\\real8.mp4_crop2_noise_615',\n",
       "  'predicted': 0,\n",
       "  'actual': 1,\n",
       "  'count': 12},\n",
       " {'filename': 'pi_test_set\\\\videos\\\\real8.mp4_crop2_rotate-5_423',\n",
       "  'predicted': 0,\n",
       "  'actual': 1,\n",
       "  'count': 3},\n",
       " {'filename': 'pi_test_set\\\\videos\\\\real8.mp4_crop4_noise_662',\n",
       "  'predicted': 0,\n",
       "  'actual': 1,\n",
       "  'count': 12},\n",
       " {'filename': 'pi_test_set\\\\videos\\\\real8.mp4_crop4_rotate-5_471',\n",
       "  'predicted': 0,\n",
       "  'actual': 1,\n",
       "  'count': 11},\n",
       " {'filename': 'pi_test_set\\\\videos\\\\real8.mp4_crop4_rotate5_noise_855',\n",
       "  'predicted': 0,\n",
       "  'actual': 1,\n",
       "  'count': 12},\n",
       " {'filename': 'pi_test_set\\\\videos\\\\real8.mp4_crop6_noise_711',\n",
       "  'predicted': 0,\n",
       "  'actual': 1,\n",
       "  'count': 11},\n",
       " {'filename': 'pi_test_set\\\\videos\\\\real8.mp4_crop6_rotate-5_519',\n",
       "  'predicted': 0,\n",
       "  'actual': 1,\n",
       "  'count': 2},\n",
       " {'filename': 'pi_test_set\\\\videos\\\\real8.mp4_crop6_rotate-5_noise_1095',\n",
       "  'predicted': 0,\n",
       "  'actual': 1,\n",
       "  'count': 2},\n",
       " {'filename': 'pi_test_set\\\\videos\\\\real8.mp4_crop6_rotate5_327',\n",
       "  'predicted': 0,\n",
       "  'actual': 1,\n",
       "  'count': 12},\n",
       " {'filename': 'pi_test_set\\\\videos\\\\real8.mp4_crop6_rotate5_noise_903',\n",
       "  'predicted': 0,\n",
       "  'actual': 1,\n",
       "  'count': 12},\n",
       " {'filename': 'pi_test_set\\\\videos\\\\real8.mp4_noise_567',\n",
       "  'predicted': 0,\n",
       "  'actual': 1,\n",
       "  'count': 12},\n",
       " {'filename': 'pi_test_set\\\\videos\\\\real8.mp4_rotate-5_374',\n",
       "  'predicted': 0,\n",
       "  'actual': 1,\n",
       "  'count': 9},\n",
       " {'filename': 'pi_test_set\\\\videos\\\\real8.mp4_rotate5_183',\n",
       "  'predicted': 0,\n",
       "  'actual': 1,\n",
       "  'count': 12},\n",
       " {'filename': 'pi_test_set\\\\videos\\\\real8.mp4_rotate5_noise_759',\n",
       "  'predicted': 0,\n",
       "  'actual': 1,\n",
       "  'count': 12},\n",
       " {'filename': 'pi_test_set\\\\videos\\\\real9.mp4_27',\n",
       "  'predicted': 0,\n",
       "  'actual': 1,\n",
       "  'count': 3},\n",
       " {'filename': 'pi_test_set\\\\videos\\\\real9.mp4_crop2_noise_619',\n",
       "  'predicted': 0,\n",
       "  'actual': 1,\n",
       "  'count': 2},\n",
       " {'filename': 'pi_test_set\\\\videos\\\\real9.mp4_crop2_rotate-5_427',\n",
       "  'predicted': 0,\n",
       "  'actual': 1,\n",
       "  'count': 16},\n",
       " {'filename': 'pi_test_set\\\\videos\\\\real9.mp4_crop2_rotate-5_noise_1003',\n",
       "  'predicted': 0,\n",
       "  'actual': 1,\n",
       "  'count': 15},\n",
       " {'filename': 'pi_test_set\\\\videos\\\\real9.mp4_crop4_noise_667',\n",
       "  'predicted': 0,\n",
       "  'actual': 1,\n",
       "  'count': 1},\n",
       " {'filename': 'pi_test_set\\\\videos\\\\real9.mp4_crop4_rotate-5_475',\n",
       "  'predicted': 0,\n",
       "  'actual': 1,\n",
       "  'count': 11},\n",
       " {'filename': 'pi_test_set\\\\videos\\\\real9.mp4_crop4_rotate-5_noise_1051',\n",
       "  'predicted': 0,\n",
       "  'actual': 1,\n",
       "  'count': 17},\n",
       " {'filename': 'pi_test_set\\\\videos\\\\real9.mp4_crop6_rotate-5_523',\n",
       "  'predicted': 0,\n",
       "  'actual': 1,\n",
       "  'count': 8},\n",
       " {'filename': 'pi_test_set\\\\videos\\\\real9.mp4_crop6_rotate-5_noise_1099',\n",
       "  'predicted': 0,\n",
       "  'actual': 1,\n",
       "  'count': 17},\n",
       " {'filename': 'pi_test_set\\\\videos\\\\real9.mp4_flip_crop2_rotate5_1387',\n",
       "  'predicted': 0,\n",
       "  'actual': 1,\n",
       "  'count': 10},\n",
       " {'filename': 'pi_test_set\\\\videos\\\\real9.mp4_flip_crop2_rotate5_noise_1963',\n",
       "  'predicted': 0,\n",
       "  'actual': 1,\n",
       "  'count': 10},\n",
       " {'filename': 'pi_test_set\\\\videos\\\\real9.mp4_flip_crop4_rotate5_1435',\n",
       "  'predicted': 0,\n",
       "  'actual': 1,\n",
       "  'count': 7},\n",
       " {'filename': 'pi_test_set\\\\videos\\\\real9.mp4_flip_crop4_rotate5_noise_2011',\n",
       "  'predicted': 0,\n",
       "  'actual': 1,\n",
       "  'count': 9},\n",
       " {'filename': 'pi_test_set\\\\videos\\\\real9.mp4_flip_crop6_rotate5_noise_2059',\n",
       "  'predicted': 0,\n",
       "  'actual': 1,\n",
       "  'count': 1},\n",
       " {'filename': 'pi_test_set\\\\videos\\\\real9.mp4_flip_rotate5_1339',\n",
       "  'predicted': 0,\n",
       "  'actual': 1,\n",
       "  'count': 10},\n",
       " {'filename': 'pi_test_set\\\\videos\\\\real9.mp4_flip_rotate5_noise_1915',\n",
       "  'predicted': 0,\n",
       "  'actual': 1,\n",
       "  'count': 11},\n",
       " {'filename': 'pi_test_set\\\\videos\\\\real9.mp4_noise_570',\n",
       "  'predicted': 0,\n",
       "  'actual': 1,\n",
       "  'count': 3},\n",
       " {'filename': 'pi_test_set\\\\videos\\\\fake2.mp4_0_b1',\n",
       "  'predicted': 1,\n",
       "  'actual': 0,\n",
       "  'count': 214},\n",
       " {'filename': 'pi_test_set\\\\videos\\\\fake3.mp4_0_b1',\n",
       "  'predicted': 1,\n",
       "  'actual': 0,\n",
       "  'count': 170},\n",
       " {'filename': 'pi_test_set\\\\videos\\\\real2.mp4_0_b2',\n",
       "  'predicted': 1,\n",
       "  'actual': 0,\n",
       "  'count': 5},\n",
       " {'filename': 'pi_test_set\\\\videos\\\\real3.mp4_0_b2',\n",
       "  'predicted': 1,\n",
       "  'actual': 0,\n",
       "  'count': 7},\n",
       " {'filename': 'pi_test_set\\\\videos\\\\real4.mp4_0_b2',\n",
       "  'predicted': 1,\n",
       "  'actual': 0,\n",
       "  'count': 30},\n",
       " {'filename': 'pi_test_set\\\\videos\\\\recorded10.mp4_0_b1',\n",
       "  'predicted': 1,\n",
       "  'actual': 0,\n",
       "  'count': 36}]"
      ]
     },
     "execution_count": 53,
     "metadata": {},
     "output_type": "execute_result"
    }
   ],
   "source": [
    "\n",
    "from collections import defaultdict\n",
    "\n",
    "incorrect_indices = np.where(predicted_labels != true_labels)[0]\n",
    "incorrect_samples_dict = {}\n",
    "\n",
    "# Create a dictionary to store the count of incorrect samples for each filename\n",
    "filename_counts = defaultdict(int)\n",
    "\n",
    "# Populate the incorrect_samples_dict and count occurrences\n",
    "for idx in incorrect_indices:\n",
    "    filename = Video_IDs_pi_test[idx]\n",
    "    incorrect_samples_dict[filename] = {\n",
    "        \"filename\": filename,\n",
    "        #\"data\": X_pi_test[idx][0][0:2],\n",
    "        \"predicted\": predicted_labels[idx],\n",
    "        \"actual\": true_labels[idx]\n",
    "    }\n",
    "    filename_counts[filename] += 1\n",
    "\n",
    "# Add the count to each dictionary entry in incorrect_samples_dict\n",
    "for filename in incorrect_samples_dict:\n",
    "    incorrect_samples_dict[filename]['count'] = filename_counts[filename]\n",
    "\n",
    "# Update the incorrect_samples_info list\n",
    "incorrect_samples_info = list(incorrect_samples_dict.values())\n",
    "\n",
    "# Display the updated incorrect_samples_info\n",
    "incorrect_samples_info\n"
   ]
  },
  {
   "cell_type": "code",
   "execution_count": null,
   "id": "45635cb8-5236-41b7-83fb-184bbfff0b68",
   "metadata": {},
   "outputs": [],
   "source": []
  },
  {
   "cell_type": "code",
   "execution_count": null,
   "id": "97db16b9-65c0-4f0c-a1b0-45025af918c9",
   "metadata": {},
   "outputs": [],
   "source": []
  }
 ],
 "metadata": {
  "kernelspec": {
   "display_name": "Python 3 (ipykernel)",
   "language": "python",
   "name": "python3"
  },
  "language_info": {
   "codemirror_mode": {
    "name": "ipython",
    "version": 3
   },
   "file_extension": ".py",
   "mimetype": "text/x-python",
   "name": "python",
   "nbconvert_exporter": "python",
   "pygments_lexer": "ipython3",
   "version": "3.8.0"
  }
 },
 "nbformat": 4,
 "nbformat_minor": 5
}
