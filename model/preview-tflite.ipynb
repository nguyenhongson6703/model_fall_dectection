{
 "cells": [
  {
   "cell_type": "code",
   "execution_count": 1,
   "id": "e580f893-eade-4bad-ac6e-fd5fb68355c4",
   "metadata": {
    "execution": {
     "iopub.execute_input": "2024-06-06T07:10:15.824521Z",
     "iopub.status.busy": "2024-06-06T07:10:15.823543Z",
     "iopub.status.idle": "2024-06-06T07:10:18.951260Z",
     "shell.execute_reply": "2024-06-06T07:10:18.951260Z",
     "shell.execute_reply.started": "2024-06-06T07:10:15.824521Z"
    }
   },
   "outputs": [],
   "source": [
    "import cv2\n",
    "import numpy as np\n",
    "import threading\n",
    "import argparse\n",
    "import sys\n",
    "import os\n",
    "import time\n",
    "import csv\n",
    "import tensorflow.lite as tflite\n",
    "import mediapipe as mp\n",
    "import numpy as np\n",
    "from pathlib import Path\n",
    "\n",
    "from mediapipe.tasks import python\n",
    "from mediapipe.tasks.python import vision\n",
    "from mediapipe.framework.formats import landmark_pb2\n",
    "\n",
    "from concurrent.futures import ThreadPoolExecutor\n",
    "\n",
    "\n",
    "mp_pose = mp.solutions.pose\n",
    "mp_drawing = mp.solutions.drawing_utils\n",
    "mp_drawing_styles = mp.solutions.drawing_styles"
   ]
  },
  {
   "cell_type": "code",
   "execution_count": 18,
   "id": "e411f9fd-5019-4adf-9cd4-fda9a656c749",
   "metadata": {
    "execution": {
     "iopub.execute_input": "2024-06-06T07:13:45.802935Z",
     "iopub.status.busy": "2024-06-06T07:13:45.802935Z",
     "iopub.status.idle": "2024-06-06T07:13:45.819135Z",
     "shell.execute_reply": "2024-06-06T07:13:45.819135Z",
     "shell.execute_reply.started": "2024-06-06T07:13:45.802935Z"
    }
   },
   "outputs": [
    {
     "data": {
      "text/plain": [
       "[{'name': 'StatefulPartitionedCall:0',\n",
       "  'index': 72,\n",
       "  'shape': array([1, 1]),\n",
       "  'shape_signature': array([-1,  1]),\n",
       "  'dtype': numpy.float32,\n",
       "  'quantization': (0.0, 0),\n",
       "  'quantization_parameters': {'scales': array([], dtype=float32),\n",
       "   'zero_points': array([], dtype=int32),\n",
       "   'quantized_dimension': 0},\n",
       "  'sparsity_parameters': {}}]"
      ]
     },
     "execution_count": 18,
     "metadata": {},
     "output_type": "execute_result"
    }
   ],
   "source": [
    "n_time_steps = 20\n",
    "interpreter = tflite.Interpreter(model_path=\"model_april.tflite\")\n",
    "interpreter.allocate_tensors()\n",
    "\n",
    "# Get input and output tensors.\n",
    "input_details = interpreter.get_input_details()\n",
    "output_details = interpreter.get_output_details()\n",
    "\n",
    "input_details\n",
    "output_details"
   ]
  },
  {
   "cell_type": "code",
   "execution_count": 3,
   "id": "60cb42d2-27d4-4a91-a6d9-b4e868a5cac6",
   "metadata": {
    "execution": {
     "iopub.execute_input": "2024-06-06T07:10:21.064582Z",
     "iopub.status.busy": "2024-06-06T07:10:21.064582Z",
     "iopub.status.idle": "2024-06-06T07:10:21.072475Z",
     "shell.execute_reply": "2024-06-06T07:10:21.072475Z",
     "shell.execute_reply.started": "2024-06-06T07:10:21.064582Z"
    }
   },
   "outputs": [],
   "source": [
    "#mediapipe_pose_model_asset = \"mediapipe_pose_landmarker_model/pose_landmarker_heavy.task\"\n",
    "mediapipe_pose_model_asset = \"mediapipe_pose_landmarker_model/pose_landmarker_full.task\"\n",
    "base_options = python.BaseOptions(model_asset_path=mediapipe_pose_model_asset)\n",
    "options = vision.PoseLandmarkerOptions(\n",
    "        base_options=base_options,\n",
    "        running_mode=vision.RunningMode.VIDEO,\n",
    "        num_poses=1,\n",
    "        min_pose_detection_confidence=0.5,\n",
    "        min_pose_presence_confidence=0.5,\n",
    "        min_tracking_confidence=0.5,\n",
    "        output_segmentation_masks=False)\n"
   ]
  },
  {
   "cell_type": "code",
   "execution_count": null,
   "id": "8c737860-e776-4fc1-a365-164ba6bdeea3",
   "metadata": {},
   "outputs": [],
   "source": []
  },
  {
   "cell_type": "code",
   "execution_count": 4,
   "id": "0913ec5e-fe1c-4c13-a1a1-b4ad3e2bdb7d",
   "metadata": {
    "execution": {
     "iopub.execute_input": "2024-06-06T07:10:21.159695Z",
     "iopub.status.busy": "2024-06-06T07:10:21.158751Z",
     "iopub.status.idle": "2024-06-06T07:10:21.167505Z",
     "shell.execute_reply": "2024-06-06T07:10:21.167505Z",
     "shell.execute_reply.started": "2024-06-06T07:10:21.159695Z"
    }
   },
   "outputs": [],
   "source": [
    "def make_landmark_timestep(results):\n",
    "    c_lm = []\n",
    "    def add_lanmark(index):\n",
    "        landmark = results.pose_landmarks[0][index]\n",
    "        c_lm.append(landmark.x)\n",
    "        c_lm.append(landmark.y)\n",
    "        c_lm.append(landmark.z)\n",
    "        c_lm.append(landmark.visibility)\n",
    "\n",
    "    for i in range(33):\n",
    "        add_lanmark(i)\n",
    "    \n",
    "    return c_lm\n",
    "\n",
    "\n",
    "def draw_landmark_on_image(mpDraw, results, img):\n",
    "    mpDraw.draw_landmarks(img, results.pose_landmarks, mpPose.POSE_CONNECTIONS)\n",
    "    for id, lm in enumerate(results.pose_landmarks.landmark):\n",
    "        h, w, c = img.shape\n",
    "        print(id, lm)\n",
    "        cx, cy = int(lm.x * w), int(lm.y * h)\n",
    "        cv2.circle(img, (cx, cy), 5, (255, 0, 0), cv2.FILLED)\n",
    "    return img\n",
    "\n",
    "\n",
    "def draw_class_on_image(label, img):\n",
    "    font = cv2.FONT_HERSHEY_SIMPLEX\n",
    "    bottomLeftCornerOfText = (10, 30)\n",
    "    fontScale = 1\n",
    "    fontColor = (0, 255, 0)\n",
    "    thickness = 2\n",
    "    lineType = 2\n",
    "    cv2.putText(img, label,\n",
    "                bottomLeftCornerOfText,\n",
    "                font,\n",
    "                fontScale,\n",
    "                fontColor,\n",
    "                thickness,\n",
    "                lineType)\n",
    "    return img"
   ]
  },
  {
   "cell_type": "code",
   "execution_count": 5,
   "id": "a92c2fde-6f0d-47ab-a2b4-81d286b40b76",
   "metadata": {
    "execution": {
     "iopub.execute_input": "2024-06-06T07:10:21.368070Z",
     "iopub.status.busy": "2024-06-06T07:10:21.367093Z",
     "iopub.status.idle": "2024-06-06T07:10:21.374907Z",
     "shell.execute_reply": "2024-06-06T07:10:21.373928Z",
     "shell.execute_reply.started": "2024-06-06T07:10:21.368070Z"
    }
   },
   "outputs": [],
   "source": [
    "fall_continous_count = 0\n",
    "def detect(interpreter, lm_list):\n",
    "    global label, fall_continous_count\n",
    "    lm_list = np.array(lm_list, dtype=np.float32)\n",
    "    lm_list = np.expand_dims(lm_list, axis=0)\n",
    "    \n",
    "    interpreter.set_tensor(input_details[0]['index'], lm_list)\n",
    "    interpreter.invoke()\n",
    "    \n",
    "    output_data = interpreter.get_tensor(output_details[0]['index'])\n",
    "    if output_data[0][0] > 0.5:\n",
    "        label = \"FALL\"\n",
    "        print(\"falll \", fall_continous_count)\n",
    "        fall_continous_count += 1\n",
    "        if fall_continous_count >= 3:\n",
    "            print(\"Sending alarm...\", fall_continous_count)\n",
    "    else:\n",
    "        label = \"NORMAL\"\n",
    "        fall_continous_count = 0\n",
    "        \n",
    "    return label"
   ]
  },
  {
   "cell_type": "code",
   "execution_count": 6,
   "id": "fc3e4ea1-abc3-4b5f-aa29-67f1ebd55afb",
   "metadata": {
    "execution": {
     "iopub.execute_input": "2024-06-06T07:10:21.584210Z",
     "iopub.status.busy": "2024-06-06T07:10:21.584210Z",
     "iopub.status.idle": "2024-06-06T07:10:21.588100Z",
     "shell.execute_reply": "2024-06-06T07:10:21.588046Z",
     "shell.execute_reply.started": "2024-06-06T07:10:21.584210Z"
    }
   },
   "outputs": [],
   "source": [
    "executor = ThreadPoolExecutor(max_workers=1)\n",
    "\n",
    "def threaded_detect(interpreter, lm_data):\n",
    "    global label\n",
    "    label = detect(interpreter, lm_data)\n",
    "    # Consider adding any post-detection logic here, if needed\n"
   ]
  },
  {
   "cell_type": "code",
   "execution_count": 21,
   "id": "1b5de27f-5e25-4eef-8e4e-2b56c5da80eb",
   "metadata": {
    "execution": {
     "iopub.execute_input": "2024-06-06T07:14:25.989040Z",
     "iopub.status.busy": "2024-06-06T07:14:25.988063Z",
     "iopub.status.idle": "2024-06-06T07:14:35.828148Z",
     "shell.execute_reply": "2024-06-06T07:14:35.828148Z",
     "shell.execute_reply.started": "2024-06-06T07:14:25.989040Z"
    }
   },
   "outputs": [
    {
     "name": "stdout",
     "output_type": "stream",
     "text": [
      "falll  0\n",
      "falll  1\n",
      "469\n"
     ]
    }
   ],
   "source": [
    "file_name = \"evaluation/recorded5.mp4\"\n",
    "\n",
    "video_reader = cv2.VideoCapture(file_name)\n",
    "\n",
    "out_path = \"evaluation/out.mp4\"\n",
    "    # Get the width and height of the video.\n",
    "original_video_width = int(video_reader.get(cv2.CAP_PROP_FRAME_WIDTH))\n",
    "original_video_height = int(video_reader.get(cv2.CAP_PROP_FRAME_HEIGHT))\n",
    "\n",
    "    # Initialize the VideoWriter Object to store the output video in the disk.\n",
    "video_writer = cv2.VideoWriter(out_path, cv2.VideoWriter_fourcc('M', 'P', '4', 'V'), \n",
    "                                   video_reader.get(cv2.CAP_PROP_FPS), (original_video_width, original_video_height))\n",
    "\n",
    "\n",
    "detector = vision.PoseLandmarker.create_from_options(options)\n",
    "lm_list = []\n",
    "label = \"N/A\"\n",
    "current_frame = 0\n",
    "while True:\n",
    "    success, frame = video_reader.read()\n",
    "    if not success:\n",
    "        break\n",
    "    #frame = cv2.flip(frame, 1)\n",
    "    #frame = cv2.resize(frame, (320, 240))\n",
    "    #frame = cv2.bilateralFilter(frame,9,75,75)  #filter\n",
    "    #frame = cv2.fastNlMeansDenoisingColored(blur,None,10,10,7,21)    #remove noise\n",
    "\n",
    "    rgb_image = cv2.cvtColor(frame, cv2.COLOR_BGR2RGB)\n",
    "    mp_image = mp.Image(image_format=mp.ImageFormat.SRGB, data=rgb_image)\n",
    "    \n",
    "    # tren rpi, toc do toi da 5 fps\n",
    "    results = detector.detect_for_video(mp_image, int(video_reader.get(cv2.CAP_PROP_POS_MSEC))) \n",
    "    if results.pose_landmarks:\n",
    "        if current_frame % 2 == 0: # moi truong video, cu 2 frame thi lay keypoint day vao model, \n",
    "                                    # tren rpi k can phai check frame, day thang vao (vi co delay san)\n",
    "            c_lm = make_landmark_timestep(results)\n",
    "            lm_list.append(c_lm)\n",
    "            if len(lm_list) >= n_time_steps:\n",
    "                lm_data_to_predict = lm_list[-n_time_steps:]\n",
    "                label = detect(interpreter, lm_data_to_predict)\n",
    "                #executor.submit(threaded_detect, interpreter, lm_data_to_predict)\n",
    "                lm_list.pop(0)\n",
    "                #lm_list = []\n",
    "\n",
    "        for pose_landmarks in results.pose_landmarks:\n",
    "                # Draw the pose landmarks.\n",
    "                pose_landmarks_proto = landmark_pb2.NormalizedLandmarkList()\n",
    "                pose_landmarks_proto.landmark.extend([\n",
    "                    landmark_pb2.NormalizedLandmark(x=landmark.x, y=landmark.y,\n",
    "                                                    z=landmark.z) for landmark\n",
    "                    in pose_landmarks\n",
    "                ])\n",
    "                mp_drawing.draw_landmarks(\n",
    "                    frame,\n",
    "                    pose_landmarks_proto,\n",
    "                    mp_pose.POSE_CONNECTIONS,\n",
    "                    mp_drawing_styles.get_default_pose_landmarks_style())\n",
    "\n",
    "    else:\n",
    "        lm_list = []\n",
    "    current_frame += 1       \n",
    "    frame = draw_class_on_image(label, frame)\n",
    "    cv2.imshow(\"Image\", frame)\n",
    "    video_writer.write(frame)\n",
    "    if cv2.waitKey(1) == ord('q'):\n",
    "        break\n",
    "\n",
    "print(current_frame)\n",
    "video_reader.release()\n",
    "video_writer.release()"
   ]
  },
  {
   "cell_type": "code",
   "execution_count": null,
   "id": "e4f3ace8-60a2-45c6-99a2-a111964580a4",
   "metadata": {},
   "outputs": [],
   "source": []
  },
  {
   "cell_type": "code",
   "execution_count": null,
   "id": "c02a4c3a-8dcb-4e64-93cd-3a1dfb2162ab",
   "metadata": {},
   "outputs": [],
   "source": []
  }
 ],
 "metadata": {
  "kernelspec": {
   "display_name": "Python 3 (ipykernel)",
   "language": "python",
   "name": "python3"
  },
  "language_info": {
   "codemirror_mode": {
    "name": "ipython",
    "version": 3
   },
   "file_extension": ".py",
   "mimetype": "text/x-python",
   "name": "python",
   "nbconvert_exporter": "python",
   "pygments_lexer": "ipython3",
   "version": "3.8.0"
  }
 },
 "nbformat": 4,
 "nbformat_minor": 5
}
